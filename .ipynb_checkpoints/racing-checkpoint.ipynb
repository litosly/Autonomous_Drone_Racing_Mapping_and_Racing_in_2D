{
 "cells": [
  {
   "cell_type": "code",
   "execution_count": 2,
   "metadata": {},
   "outputs": [],
   "source": [
    "%matplotlib inline\n",
    "\n",
    "import matplotlib\n",
    "import numpy as np\n",
    "import copy\n",
    "import matplotlib.pyplot as plt\n",
    "import matplotlib.image as mpimg\n",
    "import cv2\n",
    "np.seterr(divide='ignore', invalid='ignore') # ignore divide by zero\n",
    "\n",
    "import sys\n",
    "sys.setrecursionlimit(10**6)"
   ]
  },
  {
   "cell_type": "markdown",
   "metadata": {},
   "source": [
    "# Plot Image"
   ]
  },
  {
   "cell_type": "markdown",
   "metadata": {},
   "source": [
    "### 1 is obstacle, 0 is free space"
   ]
  },
  {
   "cell_type": "markdown",
   "metadata": {},
   "source": [
    "Assuming:\n",
    "1. Perfect Localization\n",
    "2. Normal distributed uncertainty in position and heading\n",
    "3. Resolution of sensor is 128 pixel, with Gaussian noise of covariance σ_r=(0.05)2 m2\n",
    "4. Update freq is 5 Hz\n",
    "\n",
    "Input: x,y speed and theta"
   ]
  },
  {
   "cell_type": "code",
   "execution_count": 3,
   "metadata": {},
   "outputs": [],
   "source": [
    "# Get map generated from matlab\n",
    "my_data = np.genfromtxt('img_binarized_in_matlab.csv', delimiter=',')"
   ]
  },
  {
   "cell_type": "code",
   "execution_count": 4,
   "metadata": {},
   "outputs": [
    {
     "data": {
      "text/plain": [
       "(876, 676)"
      ]
     },
     "execution_count": 4,
     "metadata": {},
     "output_type": "execute_result"
    }
   ],
   "source": [
    "my_data.shape"
   ]
  },
  {
   "cell_type": "code",
   "execution_count": 5,
   "metadata": {
    "scrolled": false
   },
   "outputs": [
    {
     "data": {
      "image/png": "[encoded data removed]",
      "text/plain": [
       "<Figure size 720x720 with 1 Axes>"
      ]
     },
     "metadata": {
      "needs_background": "light"
     },
     "output_type": "display_data"
    }
   ],
   "source": [
    "plt.figure(figsize=(10,10))\n",
    "imgplot = plt.imshow(my_data.T)"
   ]
  },
  {
   "cell_type": "code",
   "execution_count": 6,
   "metadata": {},
   "outputs": [],
   "source": [
    "# Util Functions\n",
    "\n",
    "def sample_normal_distribution(mu, sigma):\n",
    "    mu, sigma = 0, 0.1 # mean and standard deviation\n",
    "    return np.random.normal(mu, sigma, 1)\n",
    "\n",
    "def inverse_measurement_model(measurement):\n",
    "    \"\"\"\n",
    "    return the measurement with consideration of measurement resolution\n",
    "    \"\"\"\n",
    "    \n",
    "    return measurement\n",
    "\n",
    "def sector_mask(shape,centre,radius,angle_range): \n",
    "    \"\"\" \n",
    "    Return a boolean mask for a circular sector. The start/stop angles in \n",
    "    \"angle_range\" should be given in clockwise order. \n",
    "    Reference: http://hk.uwenku.com/question/p-cocpxpri-oa.html\n",
    "    \"\"\" \n",
    "\n",
    "    x,y = np.ogrid[:shape[0],:shape[1]] \n",
    "    cx,cy = centre \n",
    "    tmin,tmax = np.deg2rad(angle_range) \n",
    "\n",
    "    # ensure stop angle > start angle \n",
    "    if tmax < tmin: \n",
    "        tmax += 2*np.pi \n",
    "\n",
    "    # convert cartesian --> polar coordinates \n",
    "    r2 = (x-cx)*(x-cx) + (y-cy)*(y-cy) \n",
    "    theta = np.arctan2(x-cx,y-cy) - tmin \n",
    "\n",
    "    # wrap angles between 0 and 2*pi \n",
    "    theta %= (2*np.pi) \n",
    "\n",
    "    # circular mask \n",
    "    circmask = r2 <= radius*radius \n",
    "\n",
    "    # angular mask \n",
    "    anglemask = theta <= (tmax-tmin) \n",
    "\n",
    "    return circmask*anglemask \n",
    "\n",
    "def keep_only_one_part(mask):\n",
    "    \"\"\"\n",
    "    Keep only one isolated part of the mask, delete all other part\n",
    "    \"\"\"\n",
    "    "
   ]
  },
  {
   "cell_type": "code",
   "execution_count": 7,
   "metadata": {},
   "outputs": [],
   "source": [
    "class drone(object):\n",
    "    def __init__(self, start_x, start_y, start_theta, map_data, print_info):\n",
    "        self.print_info = print_info\n",
    "        \n",
    "        self.map_data = map_data\n",
    "        self.cur_x = start_x\n",
    "        self.cur_y = start_y\n",
    "        self.cur_theta = start_theta # theta = 0 means heading to the right\n",
    "        \n",
    "        if self.map_data[self.cur_x,self.cur_y] == 1:\n",
    "            print (\"Initial position in the wall!\")\n",
    "        \n",
    "        # record trajectory, store (x,y) in a tuple \n",
    "        self.trajectory = [(self.cur_x, self.cur_y)]\n",
    "        \n",
    "        # size of the map in meters\n",
    "        map_real_x = 87.6\n",
    "        map_real_y = 67.6\n",
    "        grid_cell_size = 0.1\n",
    "        \n",
    "        # speed limit \n",
    "        self.linear_speed_limit = 20 / grid_cell_size # in pixel\n",
    "        self.angular_speed_limit = 50 # in degree\n",
    "        self.freq = 5 # update frequency\n",
    "        self.t = 1/self.freq # unit time interval\n",
    "\n",
    "        # Time\n",
    "        self.cur_time = 0\n",
    "        \n",
    "        # sensor view field\n",
    "        self.view_width = 69 # in degree\n",
    "        self.alpha = self.view_width/2 \n",
    "        self.view_min = 0.3/grid_cell_size # in pixel\n",
    "        self.view_max = 10/grid_cell_size # in pixel\n",
    "        \n",
    "        if self.print_info:\n",
    "            print (\"Initializing Drone Map in dmap\")\n",
    "        \n",
    "        # initialize dmap to 1\n",
    "        self.dmap =  np.ones(self.map_data.shape)  \n",
    "        \n",
    "        if self.print_info:\n",
    "            print (\"dmap size: \", self.dmap.shape)\n",
    "            print (\"current position: \", (self.cur_x,self.cur_y))\n",
    "            print (\"current theta: \", (self.cur_theta))\n",
    "        \n",
    "\n",
    "    def get_cur_pos(self):\n",
    "        return self.cur_x, self.cur_y, self.cur_theta\n",
    "    \n",
    "    def get_cur_map(self):\n",
    "        return self.dmap\n",
    "    \n",
    "    def plot_cur_map(self, figsize = (10,10), with_trajectory = False):\n",
    "        plt.figure(figsize=figsize)\n",
    "        imgplot = plt.imshow(self.dmap.T)\n",
    "        plt.show()\n",
    "        \n",
    "        if with_trajectory:\n",
    "            pass\n",
    "        \n",
    "    def get_cur_time(self):\n",
    "        return self.cur_time\n",
    "    \n",
    "    def get_traj(self):\n",
    "        \"\"\"\n",
    "        Get the current trajectory of the drone\n",
    "        \"\"\"\n",
    "        return self.trajectory\n",
    "        \n",
    "    def update_map(self,x_speed,y_speed,theta,deterministic = True):   \n",
    "        \"\"\"\n",
    "        Update map,\n",
    "        \"\"\"\n",
    "        if self.print_info:\n",
    "            print (\"updating dmap\")\n",
    "            \n",
    "        # check speed limits \n",
    "        if abs(x_speed) > self.linear_speed_limit:\n",
    "            print (\"WARNING: LINEAR SPEED X LIMIT EXCEEDS!\")\n",
    "        if abs(y_speed) > self.linear_speed_limit:\n",
    "            print (\"WARNING: LINEAR SPEED Y LIMIT EXCEEDS!\")\n",
    "        if abs(theta - self.cur_theta) > self.angular_speed_limit:\n",
    "            print (\"WARNING: ANGULAR SPEED LIMIT EXCEEDS!\")\n",
    "        \n",
    "        # check valid position\n",
    "        x = self.cur_x + int(x_speed * self.t)\n",
    "        y = self.cur_y + int(y_speed * self.t)\n",
    "        if self.map_data[x,y] == 1:\n",
    "            print (\"Opps, you are in the wall, i moved you back to:\")\n",
    "            x = self.cur_x\n",
    "            y = self.cur_y\n",
    "            print (\"(x,y) = \",(x,y))\n",
    "        \n",
    "        if x == self.cur_x and y == self.cur_y:\n",
    "            print (\"WARNING: Speed too low, no update in x-y position\")\n",
    "        \n",
    "        # update current pos\n",
    "        self.cur_x = x\n",
    "        self.cur_y = y\n",
    "        self.cur_theta = theta\n",
    "        \n",
    "        \n",
    "        ## get index mask for mapping\n",
    "        \n",
    "        cur_theta = self.cur_theta + 90 # correct offset\n",
    "        angle_range = (cur_theta - self.alpha, cur_theta + self.alpha) # get angle range, always the same\n",
    "        \n",
    "        # first get the larger sector \n",
    "        mask1 = sector_mask(self.map_data.shape,(self.cur_x,self.cur_y), self.view_max , angle_range) \n",
    "        \n",
    "        # get intersection between the ground truth map\n",
    "        mask1 = mask1 & (~self.map_data.astype(bool))\n",
    "        return mask1\n",
    "        # restrict to only single part of sector\n",
    "        \n",
    "#         self.mask_copy = np.zeros(mask1.shape)\n",
    "#         ground_truth_map = copy.deepcopy(self.map_data)\n",
    "#         self.dfs(ground_truth_map, self.cur_x, self.cur_y)\n",
    "    \n",
    "        # then opt out the smaller sector\n",
    "        mask2 = sector_mask(self.map_data.shape,(self.cur_x,self.cur_y), self.view_min , angle_range)\n",
    "        mask = self.mask1_single_part.astype(bool) & (~mask2)\n",
    "        \n",
    "        # update dmap\n",
    "        if self.print_info:\n",
    "            print (\"...\")\n",
    "            \n",
    "        if deterministic:\n",
    "            self.dmap[mask] = 0\n",
    "    \n",
    "        else:\n",
    "            print (\"idk, use inverse measurement model, I already have the mask for you\")\n",
    "            pass\n",
    "        \n",
    "        # update cur time\n",
    "        self.cur_time += self.t\n",
    "        \n",
    "        # update trajectory\n",
    "        self.trajectory.append((self.cur_x, self.cur_y))\n",
    "        \n",
    "        if self.print_info:\n",
    "            print (\"update dmap complete\")\n",
    "            \n",
    "            \n",
    "    def dfs(self, grid, i, j):\n",
    "        \"\"\"\n",
    "        recursively prune out all disconnected part from mask\n",
    "        \"\"\"\n",
    "        if i<0 or j<0 or i>=len(grid) or j>=len(grid[0]) or grid[i,j] != 0:\n",
    "            return\n",
    "        grid[i,j] = 1\n",
    "        self.mask_copy[i,j] = 1 # mark the point in a mask copy \n",
    "        self.dfs(grid, i+1, j)\n",
    "        self.dfs(grid, i-1, j)\n",
    "        self.dfs(grid, i, j+1)\n",
    "        self.dfs(grid, i, j-1)"
   ]
  },
  {
   "cell_type": "code",
   "execution_count": 8,
   "metadata": {
    "scrolled": false
   },
   "outputs": [
    {
     "name": "stdout",
     "output_type": "stream",
     "text": [
      "Initializing Drone Map in dmap\n",
      "dmap size:  (876, 676)\n",
      "current position:  (350, 250)\n",
      "current theta:  0\n"
     ]
    }
   ],
   "source": [
    "d = drone(start_x=350,\n",
    "              start_y=250,\n",
    "              start_theta=0,\n",
    "              map_data=my_data,\n",
    "              print_info=True)"
   ]
  },
  {
   "cell_type": "code",
   "execution_count": 9,
   "metadata": {},
   "outputs": [
    {
     "name": "stdout",
     "output_type": "stream",
     "text": [
      "updating dmap\n"
     ]
    }
   ],
   "source": [
    "mask = d.update_map(10,10,0,deterministic=True)"
   ]
  },
  {
   "cell_type": "code",
   "execution_count": 10,
   "metadata": {},
   "outputs": [
    {
     "data": {
      "image/png": "[encoded data removed]",
      "text/plain": [
       "<Figure size 720x720 with 1 Axes>"
      ]
     },
     "metadata": {
      "needs_background": "light"
     },
     "output_type": "display_data"
    }
   ],
   "source": [
    "plt.figure(figsize=(10,10))\n",
    "imgplot = plt.imshow(mask.T)\n",
    "plt.show()"
   ]
  },
  {
   "cell_type": "code",
   "execution_count": 11,
   "metadata": {},
   "outputs": [
    {
     "data": {
      "text/plain": [
       "[(350, 250)]"
      ]
     },
     "execution_count": 11,
     "metadata": {},
     "output_type": "execute_result"
    }
   ],
   "source": [
    "d.get_traj()"
   ]
  },
  {
   "cell_type": "code",
   "execution_count": 12,
   "metadata": {},
   "outputs": [
    {
     "data": {
      "text/plain": [
       "(352, 252, 0)"
      ]
     },
     "execution_count": 12,
     "metadata": {},
     "output_type": "execute_result"
    }
   ],
   "source": [
    "d.get_cur_pos()"
   ]
  },
  {
   "cell_type": "code",
   "execution_count": 13,
   "metadata": {},
   "outputs": [
    {
     "data": {
      "text/plain": [
       "0"
      ]
     },
     "execution_count": 13,
     "metadata": {},
     "output_type": "execute_result"
    }
   ],
   "source": [
    "d.get_cur_time()"
   ]
  },
  {
   "cell_type": "markdown",
   "metadata": {},
   "source": [
    "## Not used functions"
   ]
  },
  {
   "cell_type": "code",
   "execution_count": 304,
   "metadata": {},
   "outputs": [],
   "source": [
    "arr = np.zeros(my_data.shape)\n",
    "x_size ,y_size= np.array(my_data.shape)\n",
    "x = np.arange(0, x_size)\n",
    "y = np.arange(0, y_size)\n",
    "\n",
    "cx = int(x_size/3)\n",
    "cy = int(y_size/2)\n",
    "# cx = 0\n",
    "# cy = 0\n",
    "\n",
    "mask1 = (x[np.newaxis,:]-cx)**2 + (y[:,np.newaxis]-cy)**2 > 100**2\n",
    "mask2 = (x[np.newaxis,:]-cx)**2 + (y[:,np.newaxis]-cy)**2 < 10**2\n",
    "mask3 = abs(np.radians(20) - (np.arctan((y[:,np.newaxis]-cy) / (x[np.newaxis,:]-cx)))) > np.radians(69/2) # fan\n",
    "# mask4 = np.radians(20) - (np.arctan((y[:,np.newaxis]-cy) / (x[np.newaxis,:]-cx))) > np.radians(69/2) # fan\n",
    "# mask4 = (x[np.newaxis,:]-cx) < 0\n",
    "\n",
    "arr[mask1.T] = 1\n",
    "arr[mask2.T] = 1\n",
    "arr[mask3.T] = 1\n",
    "# arr[mask4.T] = 1\n",
    "\n",
    "# plt.figure(figsize=(10,10))\n",
    "# imgplot = plt.imshow(arr.T)"
   ]
  },
  {
   "cell_type": "code",
   "execution_count": 21,
   "metadata": {},
   "outputs": [],
   "source": [
    "mask_copy = np.zeros(my_data.shape)\n",
    "def dfs(grid, i, j):\n",
    "#     print (\"start\")\n",
    "#     print (grid[i,j])\n",
    "    if i<0 or j<0 or i>=grid.shape[0] or j>=grid.shape[1] or grid[i,j] != 0:\n",
    "        return\n",
    "    grid[i,j] = 1\n",
    "#     print (\"yes\")\n",
    "#     result.append([i,j])\n",
    "    mask_copy[i,j] = 1\n",
    "    dfs(grid, i+1, j)\n",
    "    dfs(grid, i-1, j)\n",
    "    dfs(grid, i, j+1)\n",
    "    dfs(grid, i, j-1)"
   ]
  }
 ],
 "metadata": {
  "kernelspec": {
   "display_name": "Python 3",
   "language": "python",
   "name": "python3"
  },
  "language_info": {
   "codemirror_mode": {
    "name": "ipython",
    "version": 3
   },
   "file_extension": ".py",
   "mimetype": "text/x-python",
   "name": "python",
   "nbconvert_exporter": "python",
   "pygments_lexer": "ipython3",
   "version": "3.6.10"
  }
 },
 "nbformat": 4,
 "nbformat_minor": 2
}
